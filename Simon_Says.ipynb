{
 "cells": [
  {
   "cell_type": "code",
   "execution_count": 1,
   "id": "8d26b688",
   "metadata": {},
   "outputs": [
    {
     "name": "stdout",
     "output_type": "stream",
     "text": [
      "simon says jump\n",
      "simon says \n"
     ]
    }
   ],
   "source": [
    "def simon_says(text=\"\"):\n",
    "    print(\"simon says \" + text)\n",
    "\n",
    "simon_says(\"jump\")\n",
    "simon_says()  "
   ]
  }
 ],
 "metadata": {
  "kernelspec": {
   "display_name": "Python 3",
   "language": "python",
   "name": "python3"
  },
  "language_info": {
   "codemirror_mode": {
    "name": "ipython",
    "version": 3
   },
   "file_extension": ".py",
   "mimetype": "text/x-python",
   "name": "python",
   "nbconvert_exporter": "python",
   "pygments_lexer": "ipython3",
   "version": "3.12.1"
  }
 },
 "nbformat": 4,
 "nbformat_minor": 5
}
