{
 "cells": [
  {
   "cell_type": "code",
   "execution_count": 3,
   "id": "e2d6f4e9",
   "metadata": {},
   "outputs": [
    {
     "name": "stdout",
     "output_type": "stream",
     "text": [
      "blue\n",
      "Christian\n"
     ]
    }
   ],
   "source": [
    "#Accessing Elements Problem\n",
    "\n",
    "dict = {}\n",
    "list = [\"red\" , \"blue\", \"black\"]\n",
    "list[2] = \"green\"\n",
    "dict[\"name\"] = \"Christian\"\n",
    "\n",
    "print(list[1])\n",
    "print(dict[\"name\"])\n",
    "\n",
    "#Always forget that lists start at index 0 "
   ]
  }
 ],
 "metadata": {
  "kernelspec": {
   "display_name": "Python 3",
   "language": "python",
   "name": "python3"
  },
  "language_info": {
   "codemirror_mode": {
    "name": "ipython",
    "version": 3
   },
   "file_extension": ".py",
   "mimetype": "text/x-python",
   "name": "python",
   "nbconvert_exporter": "python",
   "pygments_lexer": "ipython3",
   "version": "3.12.1"
  }
 },
 "nbformat": 4,
 "nbformat_minor": 5
}
