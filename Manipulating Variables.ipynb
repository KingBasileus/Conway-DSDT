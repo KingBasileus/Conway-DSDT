{
 "cells": [
  {
   "cell_type": "code",
   "execution_count": null,
   "id": "6420aa80",
   "metadata": {},
   "outputs": [
    {
     "name": "stdout",
     "output_type": "stream",
     "text": [
      "Thats not the right price!\n",
      "Thats not the right price!\n",
      "Thats not the right price\n",
      "Thats not the right price\n",
      "7\n"
     ]
    }
   ],
   "source": [
    "#Coffee and Pastry Problem\n",
    "\n",
    "coffee_price_int = None\n",
    "\n",
    "while coffee_price_int is None:\n",
    "    try:\n",
    "        coffee_price_int = int(input(\"What's the price of coffee?\"))\n",
    "    except ValueError:\n",
    "        print(\"Thats not the right price!\")\n",
    "\n",
    "pastry_price_int = None\n",
    "\n",
    "while pastry_price_int is None:\n",
    "    try:\n",
    "        pastry_price_int = int(input(\"What's the price of a pastry\"))\n",
    "    except ValueError:\n",
    "        print(\"Thats not the right price!\")\n",
    "\n",
    "Total = coffee_price_int + pastry_price_int\n",
    "\n",
    "print(Total)\n",
    "\n",
    "\n",
    "\n",
    "\n"
   ]
  },
  {
   "cell_type": "code",
   "execution_count": 46,
   "id": "7d7515df",
   "metadata": {},
   "outputs": [
    {
     "name": "stdout",
     "output_type": "stream",
     "text": [
      "It will take you estimately 6.67 hours to reach your desination\n"
     ]
    }
   ],
   "source": [
    "# Distance between cities\n",
    "\n",
    "Distance_input_int = None\n",
    "\n",
    "while Distance_input_int is None:\n",
    "    try:\n",
    "        Distance_input_int = int(input(\"How far is it that you plan on going\"))\n",
    "    except ValueError:\n",
    "        print(\"Please tell me in miles :)\")\n",
    "\n",
    "#Using base speed to automate time estimate\n",
    "\n",
    "#Using a distance step to find which one to use\n",
    "dis_step = 1\n",
    "\n",
    "#time variables\n",
    "time = 1\n",
    "time_int = 0\n",
    "\n",
    "#mph variables for estimations\n",
    "fast_mph = 60\n",
    "slow_mph = 10\n",
    "\n",
    "#estimate for lower distances to add realistic time\n",
    "est_deficiet = Distance_input_int / 3\n",
    "\n",
    "if Distance_input_int > 1 and Distance_input_int < 60 and dis_step == 1:\n",
    "    time = Distance_input_int / slow_mph + est_deficiet\n",
    "    time_int = int(time)\n",
    "    print(\"It will take you estimately {} minutes to reach your desination\".format(time_int))\n",
    "else:\n",
    "    dis_step = 2\n",
    "\n",
    "if Distance_input_int > 60 and dis_step == 2:\n",
    "    time = Distance_input_int / fast_mph \n",
    "    time_int = round(time, 2)\n",
    "    print(\"It will take you estimately {} hours to reach your desination\".format(time_int))\n",
    "\n",
    "\n",
    "\n",
    "    \n",
    "\n",
    "\n",
    "\n",
    "\n"
   ]
  }
 ],
 "metadata": {
  "kernelspec": {
   "display_name": "Python 3",
   "language": "python",
   "name": "python3"
  },
  "language_info": {
   "codemirror_mode": {
    "name": "ipython",
    "version": 3
   },
   "file_extension": ".py",
   "mimetype": "text/x-python",
   "name": "python",
   "nbconvert_exporter": "python",
   "pygments_lexer": "ipython3",
   "version": "3.12.1"
  }
 },
 "nbformat": 4,
 "nbformat_minor": 5
}
