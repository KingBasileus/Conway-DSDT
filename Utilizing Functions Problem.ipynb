{
 "cells": [
  {
   "cell_type": "code",
   "execution_count": 3,
   "id": "46197947",
   "metadata": {},
   "outputs": [
    {
     "name": "stdout",
     "output_type": "stream",
     "text": [
      "[1, 2, 3]\n",
      "3\n",
      "[1, 2, 3]\n",
      "6\n"
     ]
    }
   ],
   "source": [
    "#this is a list\n",
    "x = [1, 2, 3]\n",
    "\n",
    "print(x)\n",
    "print(len(x))\n",
    "\n",
    "\n",
    "y = [1, 2, 3]\n",
    "\n",
    "print(y)\n",
    "print(sum(y))"
   ]
  },
  {
   "cell_type": "code",
   "execution_count": 5,
   "id": "d4d5b76d",
   "metadata": {},
   "outputs": [
    {
     "name": "stdout",
     "output_type": "stream",
     "text": [
      "30\n"
     ]
    }
   ],
   "source": [
    "nums = [1, 2, 3, 4, 5]\n",
    "lower = max(nums)\n",
    "result = max(lower, 10 ,20 ,30)\n",
    "\n",
    "print(result)"
   ]
  },
  {
   "cell_type": "code",
   "execution_count": null,
   "id": "264ac065",
   "metadata": {},
   "outputs": [
    {
     "name": "stdout",
     "output_type": "stream",
     "text": [
      "python\n",
      "['y', 't', 'p', 'o', 'n', 'h']\n"
     ]
    }
   ],
   "source": [
    "word = \"python\"\n",
    "result = sorted(word, key=len)\n",
    "print(word)\n",
    "print(result)"
   ]
  },
  {
   "cell_type": "code",
   "execution_count": 21,
   "id": "c18a9a61",
   "metadata": {},
   "outputs": [
    {
     "name": "stdout",
     "output_type": "stream",
     "text": [
      "The largest number is at 2:\n"
     ]
    }
   ],
   "source": [
    "items = [4, 2, 7 , 1]\n",
    "\n",
    "position_of_largest_number = max(items)\n",
    "index_of_max = items.index(position_of_largest_number)\n",
    "\n",
    "print(f\"The largest number is at {index_of_max}:\")"
   ]
  },
  {
   "cell_type": "code",
   "execution_count": null,
   "id": "b7c9d7b2",
   "metadata": {},
   "outputs": [],
   "source": []
  }
 ],
 "metadata": {
  "kernelspec": {
   "display_name": "Python 3",
   "language": "python",
   "name": "python3"
  },
  "language_info": {
   "codemirror_mode": {
    "name": "ipython",
    "version": 3
   },
   "file_extension": ".py",
   "mimetype": "text/x-python",
   "name": "python",
   "nbconvert_exporter": "python",
   "pygments_lexer": "ipython3",
   "version": "3.12.1"
  }
 },
 "nbformat": 4,
 "nbformat_minor": 5
}
