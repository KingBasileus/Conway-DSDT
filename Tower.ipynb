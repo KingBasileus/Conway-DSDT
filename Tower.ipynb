{
 "cells": [
  {
   "cell_type": "code",
   "execution_count": 7,
   "id": "46197947",
   "metadata": {},
   "outputs": [
    {
     "name": "stdout",
     "output_type": "stream",
     "text": [
      "Hello, Hi ! Get ready for an adventure!\n"
     ]
    }
   ],
   "source": [
    "def getname(pname):\n",
    "    print(\"Hello, %s ! Get ready for an adventure!\" % (pname))\n",
    "\n",
    "pname = input(\"What is your name Adventurer\")\n",
    "\n",
    "getname(pname)"
   ]
  }
 ],
 "metadata": {
  "kernelspec": {
   "display_name": "Python 3",
   "language": "python",
   "name": "python3"
  },
  "language_info": {
   "codemirror_mode": {
    "name": "ipython",
    "version": 3
   },
   "file_extension": ".py",
   "mimetype": "text/x-python",
   "name": "python",
   "nbconvert_exporter": "python",
   "pygments_lexer": "ipython3",
   "version": "3.12.1"
  }
 },
 "nbformat": 4,
 "nbformat_minor": 5
}
