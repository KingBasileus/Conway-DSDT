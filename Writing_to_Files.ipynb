{
 "cells": [
  {
   "cell_type": "code",
   "execution_count": 2,
   "id": "ea7aaca3",
   "metadata": {},
   "outputs": [],
   "source": [
    "import json\n",
    "from pathlib import Path\n",
    "\n",
    "list = [\n",
    "    {\"name\": \"Christian\", \"height\": 8},\n",
    "    {\"name\": \"Chris\", \"height\": 7},\n",
    "    {\"name\": \"Mason\", \"height\": 3}\n",
    "]\n",
    "\n",
    "\n",
    "with open(\"list.json\", \"w\") as json_file:\n",
    "    json.dump(list, json_file, indent=4)\n",
    "\n",
    "\n",
    "new_sentence = \"I am writing to my new JSON file :) .\"\n",
    "\n",
    "with open(\"sentence.txt\", \"w\") as txt_file:\n",
    "    txt_file.write(new_sentence)\n",
    "\n",
    "\n",
    "append_me = \"i am being appended in this text file :) .\"\n",
    "\n",
    "with open(\"sentence.txt\", \"a\") as txt_file:\n",
    "    txt_file.write(append_me)\n",
    "\n",
    "\n",
    "\n",
    "#NOW DELTE SO MY GITHUB STOPES BEING SPAMMED\n",
    "Path(\"list.json\").unlink()\n",
    "Path(\"sentence.txt\").unlink()"
   ]
  }
 ],
 "metadata": {
  "kernelspec": {
   "display_name": "Python 3",
   "language": "python",
   "name": "python3"
  },
  "language_info": {
   "codemirror_mode": {
    "name": "ipython",
    "version": 3
   },
   "file_extension": ".py",
   "mimetype": "text/x-python",
   "name": "python",
   "nbconvert_exporter": "python",
   "pygments_lexer": "ipython3",
   "version": "3.12.1"
  }
 },
 "nbformat": 4,
 "nbformat_minor": 5
}
