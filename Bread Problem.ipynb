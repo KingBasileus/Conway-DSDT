{
 "cells": [
  {
   "cell_type": "code",
   "execution_count": 10,
   "id": "46197947",
   "metadata": {},
   "outputs": [
    {
     "name": "stdout",
     "output_type": "stream",
     "text": [
      "Current price of your cart = 4\n",
      "After taxes you total is = 4.24 Thank you for shopping at DSDT\n"
     ]
    }
   ],
   "source": [
    "#Setting Store Prices\n",
    "pbread = 1\n",
    "pmilk = 3\n",
    "\n",
    "#Setting cart value\n",
    "cart = 0\n",
    "\n",
    "#FLATTAXPLZ\n",
    "tax = 1.06\n",
    "\n",
    "#Test for buying bread and milk\n",
    "cart = pbread + pmilk\n",
    "print(\"Current price of your cart = \" + str(cart))\n",
    "\n",
    "#Now add tax to the cart\n",
    "cart = cart * tax\n",
    "print(\"After taxes you total is = \" + str(cart) + \" Thank you for shopping at DSDT\")"
   ]
  },
  {
   "cell_type": "code",
   "execution_count": null,
   "id": "9c636ec8",
   "metadata": {},
   "outputs": [],
   "source": []
  }
 ],
 "metadata": {
  "kernelspec": {
   "display_name": "Python 3",
   "language": "python",
   "name": "python3"
  },
  "language_info": {
   "codemirror_mode": {
    "name": "ipython",
    "version": 3
   },
   "file_extension": ".py",
   "mimetype": "text/x-python",
   "name": "python",
   "nbconvert_exporter": "python",
   "pygments_lexer": "ipython3",
   "version": "3.12.1"
  }
 },
 "nbformat": 4,
 "nbformat_minor": 5
}
