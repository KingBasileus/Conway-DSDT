{
 "cells": [
  {
   "cell_type": "code",
   "execution_count": 10,
   "id": "b03708e3",
   "metadata": {},
   "outputs": [
    {
     "name": "stdout",
     "output_type": "stream",
     "text": [
      "Hi Alice it's a beautiful day! How about a picnic in the park?\n",
      "Hi Alice it looks like it's raining. A great day to enjoy a movie indoors!\n",
      "Hi Alice it's snowing outside! Perfect for building a snowman!\n",
      "Hi Bob it's a beautiful day! How about a picnic in the park?\n",
      "Hi Bob it looks like it's raining. A great day to enjoy a movie indoors!\n",
      "Hi Bob it's snowing outside! Perfect for building a snowman!\n",
      "Hi Charlie it's a beautiful day! How about a picnic in the park?\n",
      "Hi Charlie it looks like it's raining. A great day to enjoy a movie indoors!\n",
      "Hi Charlie it's snowing outside! Perfect for building a snowman!\n"
     ]
    }
   ],
   "source": [
    "\n",
    "\n",
    "def sunny_activity(name):\n",
    "    return \"Hi \" + (name) + \" it's a beautiful day! How about a picnic in the park?\"\n",
    "\n",
    "def rainy_activity(name):\n",
    "    return \"Hi \" + (name) + \" it looks like it's raining. A great day to enjoy a movie indoors!\"\n",
    "\n",
    "def snowy_activity(name):\n",
    "    return \"Hi \" + (name) + \" it's snowing outside! Perfect for building a snowman!\"\n",
    "\n",
    "def activity_suggestion(weather_condition, name):\n",
    "    if weather_condition == \"sunny\":\n",
    "        message = sunny_activity(name)\n",
    "    elif weather_condition == \"rainy\":\n",
    "        message = rainy_activity(name)\n",
    "    elif weather_condition == \"snowy\":\n",
    "        message = snowy_activity(name)\n",
    "    else:\n",
    "        message = \"Hi \" + (name) + \" I'm not sure what to suggest for \" + (weather_condition) + \" weather \"\n",
    "    print(message)\n",
    "\n",
    "names = [\"Alice\", \"Bob\", \"Charlie\"]\n",
    "weathers = [\"sunny\", \"rainy\", \"snowy\"]\n",
    "\n",
    "for name in names:\n",
    "    for weather in weathers:\n",
    "        activity_suggestion(weather, name)\n"
   ]
  }
 ],
 "metadata": {
  "kernelspec": {
   "display_name": "Python 3",
   "language": "python",
   "name": "python3"
  },
  "language_info": {
   "codemirror_mode": {
    "name": "ipython",
    "version": 3
   },
   "file_extension": ".py",
   "mimetype": "text/x-python",
   "name": "python",
   "nbconvert_exporter": "python",
   "pygments_lexer": "ipython3",
   "version": "3.12.1"
  }
 },
 "nbformat": 4,
 "nbformat_minor": 5
}
