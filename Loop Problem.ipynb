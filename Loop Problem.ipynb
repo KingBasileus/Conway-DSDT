{
 "cells": [
  {
   "cell_type": "code",
   "execution_count": 6,
   "id": "acb4f370",
   "metadata": {},
   "outputs": [
    {
     "name": "stdout",
     "output_type": "stream",
     "text": [
      "Whats your nick name :)\n",
      "Class list\n",
      "['Ben', 'Sam']\n",
      "[{'name': 'Ben', 'attendance': 'present'}, {'name': 'Sam', 'attendance': 'Absent'}]\n",
      "['Ben', 'Sam']\n",
      "[{'name': 'Ben', 'attendance': 'present'}, {'name': 'Sam', 'attendance': 'Absent'}]\n"
     ]
    }
   ],
   "source": [
    "#Track Student attedance\n",
    "\n",
    "student_names = []\n",
    "attendance = []\n",
    "\n",
    "\n",
    "while True:\n",
    "    name =  input(\"What is your name student\")\n",
    "\n",
    "    if len(student_names) == 4:\n",
    "        break\n",
    "\n",
    "    if name in student_names:\n",
    "        print(\"Whats your nick name :)\")\n",
    "        break\n",
    "\n",
    "    attendance_check = input(name + \"  Are you present or absent\")\n",
    "\n",
    "    attendance.append({\n",
    "    \"name\": name,\n",
    "    \"attendance\": attendance_check\n",
    "})\n",
    "\n",
    "    student_names.append(name)\n",
    "\n",
    "print(\"Class list\")\n",
    "\n",
    "for student in attendance:\n",
    "    print(student_names)\n",
    "    print(attendance)\n",
    "\n"
   ]
  }
 ],
 "metadata": {
  "kernelspec": {
   "display_name": "Python 3",
   "language": "python",
   "name": "python3"
  },
  "language_info": {
   "codemirror_mode": {
    "name": "ipython",
    "version": 3
   },
   "file_extension": ".py",
   "mimetype": "text/x-python",
   "name": "python",
   "nbconvert_exporter": "python",
   "pygments_lexer": "ipython3",
   "version": "3.12.1"
  }
 },
 "nbformat": 4,
 "nbformat_minor": 5
}
