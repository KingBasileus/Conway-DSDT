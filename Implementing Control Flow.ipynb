{
 "cells": [
  {
   "cell_type": "code",
   "execution_count": null,
   "id": "46197947",
   "metadata": {},
   "outputs": [
    {
     "name": "stdout",
     "output_type": "stream",
     "text": [
      "Wear a coat and bring an Umbrella\n"
     ]
    }
   ],
   "source": [
    "#Clothing problem - Would change the and on the raining\n",
    "\n",
    "temp = -15\n",
    "raining = True\n",
    "\n",
    "if temp >= 20:\n",
    "    print (\"Wear light clothing\")\n",
    "elif temp >= 0:\n",
    "    if temp >= 1:\n",
    "        print(\"Wear a jacket\")\n",
    "    else:\n",
    "        print(\"Wear a winter coat\")\n",
    "elif temp <= -1:\n",
    "    if temp >= -14:\n",
    "        print(\"Wear a winter coat\")\n",
    "    else:\n",
    "        if raining:\n",
    "            # I could do an and stament with and if/else\n",
    "            print (\"Wear a coat and bring an Umbrella\")\n",
    "        else:\n",
    "            print(\"Wear a winter coat\")\n",
    "\n",
    "    \n"
   ]
  },
  {
   "cell_type": "code",
   "execution_count": null,
   "id": "67fb5426",
   "metadata": {},
   "outputs": [
    {
     "name": "stdout",
     "output_type": "stream",
     "text": [
      "No Tip\n"
     ]
    }
   ],
   "source": [
    "#Tip Problem - Sorry its late and just got off 12 hour shift, I would add int check\n",
    "\n",
    "total = input(\"What is the Total\")\n",
    "total_int = int(total)\n",
    "tip = 0;\n",
    "\n",
    "Status = input(\"How did we meet you expectation today (Please use, [good][average][bad])\")\n",
    "\n",
    "if Status == \"good\":\n",
    "    tip = total_int * .2\n",
    "elif Status == \"average\":\n",
    "    tip = total_int * .1\n",
    "else:\n",
    "    tip = \"No Tip\"\n",
    "\n",
    "\n",
    "    \n",
    "\n",
    "\n",
    "print(tip)"
   ]
  },
  {
   "cell_type": "code",
   "execution_count": 24,
   "id": "73c5711a",
   "metadata": {},
   "outputs": [
    {
     "name": "stdout",
     "output_type": "stream",
     "text": [
      "You have passed the course\n"
     ]
    },
    {
     "data": {
      "text/plain": [
       "'\\nOther way with jsut if / else\\n\\nif avg_int >= 50:\\n    if passed:\\n        print(\"You have passed the course)\\n    else:\\n        print(\"You didn\\'t pass the final so their for sorry bud)\\nelse:\\n    print(\"You didnt not pass the course\")\\n\\nYou don\\'t need to call for the passed at the end because they already failed 1 argument\\n\\n'"
      ]
     },
     "execution_count": 24,
     "metadata": {},
     "output_type": "execute_result"
    }
   ],
   "source": [
    "#Teacher Problem\n",
    "\n",
    "avg = input(\"Whats your current average grade [1-100]\")\n",
    "avg_int = int(avg)\n",
    "\n",
    "get_pass = input(\"Did you pass the final exam [yes][no]\")\n",
    "passed = True\n",
    "\n",
    "if get_pass == \"yes\":\n",
    "    passed = True\n",
    "else:\n",
    "    passed = False\n",
    "\n",
    "if avg_int >= 50 and passed:\n",
    "    print (\"You have passed the course\")\n",
    "elif avg_int <= 49 and passed:\n",
    "    print(\"You may have passed the final but you suck during school hours\")\n",
    "elif avg_int >= 50 and passed == False:\n",
    "    print(\"You may be a good student but you suck at the final so ill need 1 more semester tution bud\")\n",
    "\n",
    "\n",
    "'''\n",
    "Other way with jsut if / else\n",
    "\n",
    "if avg_int >= 50:\n",
    "    if passed:\n",
    "        print(\"You have passed the course)\n",
    "    else:\n",
    "        print(\"You didn't pass the final so their for sorry bud)\n",
    "else:\n",
    "    print(\"You didnt not pass the course\")\n",
    "\n",
    "You don't need to call for the passed at the end because they already failed 1 argument\n",
    "\n",
    "'''\n",
    "\n",
    "\n"
   ]
  },
  {
   "cell_type": "code",
   "execution_count": 28,
   "id": "aa4bc942",
   "metadata": {},
   "outputs": [
    {
     "name": "stdout",
     "output_type": "stream",
     "text": [
      "You get a %20 discount\n"
     ]
    }
   ],
   "source": [
    "#Loyalty Discount\n",
    "\n",
    "get_spend = input(\"How much have you spent with us\")\n",
    "spend_int = int(get_spend)\n",
    "spent = spend_int\n",
    "\n",
    "get_membership = input(\"What Membership are you [premium][standard]\")\n",
    "mem = get_membership\n",
    "\n",
    "\n",
    "\n",
    "if mem == \"premium\":\n",
    "    if spent >= 100:\n",
    "        print(\"You get a %20 discount\")\n",
    "    else:\n",
    "        print(\"You only get a %10 discount :(\")\n",
    "else:\n",
    "    if spent >= 100:\n",
    "        print(\"You only get a %10 discount\")\n",
    "    else:\n",
    "        print(\"Sorry no discount\")\n",
    "\n"
   ]
  },
  {
   "cell_type": "code",
   "execution_count": 48,
   "id": "2b9c357b",
   "metadata": {},
   "outputs": [
    {
     "name": "stdout",
     "output_type": "stream",
     "text": [
      "You have 123 in your password please remove\n"
     ]
    },
    {
     "data": {
      "text/plain": [
       "'\\nMy Preffered way to check strings / It wont give precise but I can add if you want\\n\\npassword = input(\"Please type password\")\\n\\ndef Validate(password):\\n\\nretrun len(password) >= 8 and \"123\" not in password and \"admin\" in password\\n\\nprint(Validate(password))\\n'"
      ]
     },
     "execution_count": 48,
     "metadata": {},
     "output_type": "execute_result"
    }
   ],
   "source": [
    "#Sys Admin problem\n",
    "\n",
    "password = input(\"What is your password\")\n",
    "\n",
    "if len(password) >= 8 and \"admin\" in password:\n",
    "    if \"123\" not in password:\n",
    "        print(\"Good Password\")\n",
    "    else:\n",
    "        print(\"You have 123 in your password please remove\")\n",
    "else:\n",
    "    if len(password) >= 8 and \"admin\" not in password:\n",
    "        print(\"Your pasword has 8 characters but not [admin]\")\n",
    "    elif len(password) <= 7:\n",
    "        print(\"Your password does not have enough characters\")\n",
    "    elif \"admin\" in password:\n",
    "        print(\" Your password has [admin] but not enough characters\")\n",
    "    elif \"123\" in password:\n",
    "        print(\"You have 123 in your password please remove\")\n",
    "\n",
    "\n",
    "'''\n",
    "My Preffered way to check strings / It wont give precise but I can add if you want\n",
    "\n",
    "password = input(\"Please type password\")\n",
    "\n",
    "def Validate(password):\n",
    "\n",
    "retrun len(password) >= 8 and \"123\" not in password and \"admin\" in password\n",
    "\n",
    "print(Validate(password))\n",
    "'''"
   ]
  },
  {
   "cell_type": "code",
   "execution_count": null,
   "id": "e2a15b54",
   "metadata": {},
   "outputs": [
    {
     "name": "stdout",
     "output_type": "stream",
     "text": [
      "Price for ticket = 5\n"
     ]
    }
   ],
   "source": [
    "# Movie Manager Problem - Added interchangable prices\n",
    "\n",
    "get_age = input(\"What is your age!\")\n",
    "age_int = int(get_age)\n",
    "age = age_int\n",
    "\n",
    "kid = \"5\"\n",
    "normal = \"10\"\n",
    "elder = \"7\"\n",
    "vet_price = \"6\"\n",
    "\n",
    "vet = False\n",
    "\n",
    "if age >= 60:\n",
    "    get_vet = input(\"Are you a vet\")\n",
    "    if get_vet == \"yes\":\n",
    "        vet = True\n",
    "    else:\n",
    "        vet = False\n",
    "\n",
    "    \n",
    "if age <= 11:\n",
    "    print(\"Price for ticket = %s\" % kid)\n",
    "elif age >= 12 and age <= 59:\n",
    "    print(\"Price for ticket = %s \" % normal)\n",
    "elif age >= 60:\n",
    "    if vet:\n",
    "        print(\"Price for ticket = %s\" % vet_price)\n",
    "    else:\n",
    "        print(\"Price for ticket = %s\" % elder)\n",
    "    "
   ]
  }
 ],
 "metadata": {
  "kernelspec": {
   "display_name": "Python 3",
   "language": "python",
   "name": "python3"
  },
  "language_info": {
   "codemirror_mode": {
    "name": "ipython",
    "version": 3
   },
   "file_extension": ".py",
   "mimetype": "text/x-python",
   "name": "python",
   "nbconvert_exporter": "python",
   "pygments_lexer": "ipython3",
   "version": "3.12.1"
  }
 },
 "nbformat": 4,
 "nbformat_minor": 5
}
